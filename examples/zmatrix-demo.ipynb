{
 "cells": [
  {
   "cell_type": "code",
   "execution_count": 20,
   "metadata": {},
   "outputs": [],
   "source": [
    "from rdkit import Chem\n",
    "from rdkit.Chem import AllChem\n",
    "import numpy as np\n",
    "import glob\n",
    "\n",
    "from r2z.zmatrix import ZMatrix, pts_to_bond, pts_to_angle, pts_to_dihedral\n",
    "from z_helpers import is_z_valid, calc_rmsd, calc_max, setLabels\n",
    "\n",
    "from r2z import ureg"
   ]
  },
  {
   "cell_type": "markdown",
   "metadata": {},
   "source": [
    "# 1.) Build the Z-Matrix Connectivity Table from a RDkit molecule\n",
    "\n",
    "The first thing we want to accomplish is to build the Z-Matrix connectivity table from the molecular graph. But first we need a molecule, let's use diethyl ether."
   ]
  },
  {
   "cell_type": "code",
   "execution_count": 21,
   "metadata": {},
   "outputs": [
    {
     "data": {
      "image/png": "[encoded data removed]",
      "text/plain": [
       "<rdkit.Chem.rdchem.Mol at 0x7fb649d2d040>"
      ]
     },
     "execution_count": 21,
     "metadata": {},
     "output_type": "execute_result"
    }
   ],
   "source": [
    "from rdkit.Chem.Draw import IPythonConsole\n",
    "\n",
    "rdmol = Chem.MolFromSmiles(\"CCOCC\")\n",
    "rdmol = AllChem.AddHs(rdmol)\n",
    "setLabels(rdmol)\n",
    "rdmol.Compute2DCoords()\n",
    "rdmol"
   ]
  },
  {
   "cell_type": "markdown",
   "metadata": {},
   "source": [
    "Now we will initialize a ZMatrix instance using the rdkit molecule and print the connectivity table. The connectivity table is stored as a python dictionary. The keys are the indices (stored as int) of each atom in the Zmatrix going from the root atom down to the last atom. These indices correspond to the rows in the Z-Matrix. The values in the dictionary are a list of atom indices (stored as int) that define that particular atom in the zmatrix but according to the numbering of the rdkit molecule object (yes, these do not have the same numbering/ordering!). The first item in that dictionary is the atom itself, the second is the atom it is bonded it, the third is the atom it has an angle with and the fourth is the atom it has an dihedral angle with."
   ]
  },
  {
   "cell_type": "code",
   "execution_count": 22,
   "metadata": {},
   "outputs": [
    {
     "name": "stdout",
     "output_type": "stream",
     "text": [
      "{0: [0], 1: [1, 0], 2: [2, 1, 0], 3: [3, 2, 1, 0], 4: [10, 3, 2, 1], 5: [11, 3, 2, 1], 6: [4, 3, 2, 1], 7: [12, 4, 3, 2], 8: [13, 4, 3, 2], 9: [14, 4, 3, 2], 10: [8, 1, 2, 3], 11: [9, 1, 2, 3], 12: [5, 0, 1, 2], 13: [6, 0, 1, 2], 14: [7, 0, 1, 2]}\n"
     ]
    }
   ],
   "source": [
    "zm = ZMatrix(rdmol)\n",
    "print(zm.z)"
   ]
  },
  {
   "cell_type": "markdown",
   "metadata": {},
   "source": [
    "But we can also get the Z-Matrix connectivity table in the ordering of the Z-Matrix."
   ]
  },
  {
   "cell_type": "code",
   "execution_count": 23,
   "metadata": {},
   "outputs": [
    {
     "name": "stdout",
     "output_type": "stream",
     "text": [
      "{0: [0], 1: [1, 0], 2: [2, 1, 0], 3: [3, 2, 1, 0], 4: [4, 3, 2, 1], 5: [5, 3, 2, 1], 6: [6, 3, 2, 1], 7: [7, 6, 3, 2], 8: [8, 6, 3, 2], 9: [9, 6, 3, 2], 10: [10, 1, 2, 3], 11: [11, 1, 2, 3], 12: [12, 0, 1, 2], 13: [13, 0, 1, 2], 14: [14, 0, 1, 2]}\n"
     ]
    }
   ],
   "source": [
    "print(zm.zz)"
   ]
  },
  {
   "cell_type": "markdown",
   "metadata": {},
   "source": [
    "# 2.) Coordinate transformations\n",
    "\n",
    "Now we want to transform a Molecule in Cartesian coordinates to ZMatrix coordinates (i.e. to internal coordinates). This can easily be accomplished with our ZMatrix class. But first we must generate some Cartesian coordinates for our molecule. Note that we will use `unit` from the `simtk` package in order enfore correct units on all coordinates, bond lengths and angles during all conversions (it is easy to get lost here!)."
   ]
  },
  {
   "cell_type": "code",
   "execution_count": 24,
   "metadata": {},
   "outputs": [
    {
     "data": {
      "text/html": [
       "<table><tbody><tr><th>Magnitude</th><td style='text-align:left;'><pre>[[2.237812020749655 0.6753181629342783 -0.7206903012998817]<br> [1.2502442737112458 -0.21381541029915735 0.008339988835787744]<br> [-0.06713363876477395 0.25821538754450574 -0.2632752094955727]<br> [-1.0563281092192949 -0.5320694386635143 0.39171819831334226]<br> [-2.421801800495048 0.032383372667838216 0.05376986092815379]<br> [2.1350704019518285 1.715200395809824 -0.393280059023075]<br> [3.2653680911248046 0.34793385055025416 -0.5394362474781603]<br> [2.046988764365299 0.6605425842600509 -1.7988719490594354]<br> [1.441577257615921 -0.17712517039348705 1.0864020370342486]<br> [1.3521776837961426 -1.2474449798939637 -0.3400719598813067]<br> [-0.9872988627537799 -1.5702442635079767 0.048792210648293886]<br> [-0.897890582906162 -0.4999008903676492 1.475245998519547]<br> [-2.4984133835682947 1.0758755172139178 0.3768208848649275]<br> [-2.586520861613256 0.02119456782460582 -1.0287498214588067]<br> [-3.2138512539943473 -0.5460636856794805 0.537463958950189]]</pre></td></tr><tr><th>Units</th><td style='text-align:left;'>angstrom</td></tr></tbody></table>"
      ],
      "text/latex": [
       "$\\begin{pmatrix} &  & \\\\ \n",
       " &  & \\\\ \n",
       " &  & \\\\ \n",
       " &  & \\\\ \n",
       " &  & \\\\ \n",
       " &  & \\\\ \n",
       " &  & \\\\ \n",
       " &  & \\\\ \n",
       " &  & \\\\ \n",
       " &  & \\\\ \n",
       " &  & \\\\ \n",
       " &  & \\\\ \n",
       " &  & \\\\ \n",
       " &  & \\\\ \n",
       " &  & \\end{pmatrix}\\ \\mathrm{angstrom}$"
      ],
      "text/plain": [
       "array([[ 2.23781202,  0.67531816, -0.7206903 ],\n",
       "       [ 1.25024427, -0.21381541,  0.00833999],\n",
       "       [-0.06713364,  0.25821539, -0.26327521],\n",
       "       [-1.05632811, -0.53206944,  0.3917182 ],\n",
       "       [-2.4218018 ,  0.03238337,  0.05376986],\n",
       "       [ 2.1350704 ,  1.7152004 , -0.39328006],\n",
       "       [ 3.26536809,  0.34793385, -0.53943625],\n",
       "       [ 2.04698876,  0.66054258, -1.79887195],\n",
       "       [ 1.44157726, -0.17712517,  1.08640204],\n",
       "       [ 1.35217768, -1.24744498, -0.34007196],\n",
       "       [-0.98729886, -1.57024426,  0.04879221],\n",
       "       [-0.89789058, -0.49990089,  1.475246  ],\n",
       "       [-2.49841338,  1.07587552,  0.37682088],\n",
       "       [-2.58652086,  0.02119457, -1.02874982],\n",
       "       [-3.21385125, -0.54606369,  0.53746396]]) <Unit('angstrom')>"
      ]
     },
     "execution_count": 24,
     "metadata": {},
     "output_type": "execute_result"
    }
   ],
   "source": [
    "AllChem.EmbedMolecule(rdmol)\n",
    "AllChem.MMFFOptimizeMolecule(rdmol)\n",
    "cart_crds = np.array(rdmol.GetConformers()[0].GetPositions())*ureg.angstrom\n",
    "cart_crds"
   ]
  },
  {
   "cell_type": "markdown",
   "metadata": {},
   "source": [
    "## 2.1.) Cartesian to ZMatrix\n",
    "\n",
    "Now that we have Cartesian coordinates, transform them into ZMatrix coordinates according to ZMatrix connectivity table. The ZMatrix coordinates will be stored as a dictionary, where the keys are the rows in the ZMatrix (a.k.a atom indices according to the numbering in the ZMatrix connectivity table) and the values are the bond lengths, angles and dihedral angles. Note that the first atom will have the original Cartesian coordinates as its value in the dictionary."
   ]
  },
  {
   "cell_type": "code",
   "execution_count": 25,
   "metadata": {},
   "outputs": [
    {
     "data": {
      "text/plain": [
       "{0: [array([ 0.2237812 ,  0.06753182, -0.07206903]) <Unit('nanometer')>],\n",
       " 1: [0.15156957907102184 <Unit('nanometer')>],\n",
       " 2: [0.1425507788248519 <Unit('nanometer')>,\n",
       "  108.43586163951508 <Unit('degree')>],\n",
       " 3: [0.14255076889254492 <Unit('nanometer')>,\n",
       "  111.72567091974432 <Unit('degree')>,\n",
       "  -179.99896985142217 <Unit('degree')>],\n",
       " 4: [0.10955228143788133 <Unit('nanometer')>,\n",
       "  109.74375160268161 <Unit('degree')>,\n",
       "  -59.98081856508696 <Unit('degree')>],\n",
       " 5: [0.10955225963271525 <Unit('nanometer')>,\n",
       "  109.74373717770344 <Unit('degree')>,\n",
       "  59.98101805347823 <Unit('degree')>],\n",
       " 6: [0.15156960303858788 <Unit('nanometer')>,\n",
       "  108.43588230304034 <Unit('degree')>,\n",
       "  179.99996438627758 <Unit('degree')>],\n",
       " 7: [0.10950375128081061 <Unit('nanometer')>,\n",
       "  110.61739125731737 <Unit('degree')>,\n",
       "  -59.13267669444621 <Unit('degree')>],\n",
       " 8: [0.10950371780011167 <Unit('nanometer')>,\n",
       "  110.61743840524149 <Unit('degree')>,\n",
       "  59.13332537411272 <Unit('degree')>],\n",
       " 9: [0.10935736447814365 <Unit('nanometer')>,\n",
       "  110.90927922411736 <Unit('degree')>,\n",
       "  -179.9995387101205 <Unit('degree')>],\n",
       " 10: [0.10955237396789093 <Unit('nanometer')>,\n",
       "  109.74376242223335 <Unit('degree')>,\n",
       "  -59.97995348134108 <Unit('degree')>],\n",
       " 11: [0.10955233421708199 <Unit('nanometer')>,\n",
       "  109.74372591839045 <Unit('degree')>,\n",
       "  59.981907519096886 <Unit('degree')>],\n",
       " 12: [0.10950380656539689 <Unit('nanometer')>,\n",
       "  110.61735771562375 <Unit('degree')>,\n",
       "  59.132705136099176 <Unit('degree')>],\n",
       " 13: [0.10935744134656715 <Unit('nanometer')>,\n",
       "  110.90927277619484 <Unit('degree')>,\n",
       "  179.99967285537292 <Unit('degree')>],\n",
       " 14: [0.1095037669885285 <Unit('nanometer')>,\n",
       "  110.61739540000652 <Unit('degree')>,\n",
       "  -59.133349045486455 <Unit('degree')>]}"
      ]
     },
     "execution_count": 25,
     "metadata": {},
     "output_type": "execute_result"
    }
   ],
   "source": [
    "z_crds = zm.build_z_crds(cart_crds)\n",
    "z_crds"
   ]
  },
  {
   "cell_type": "markdown",
   "metadata": {},
   "source": [
    "## 2.2.) Z-Matrix to Cartesian\n",
    "\n",
    "From the ZMatrix coordinates, one can also transform back to Cartesian space. However, this requires us to define a reference coordinate system. This is necessary, since the ZMatrix coordinates are only defined through internal coordinates starting at the root atom. Thus, these coordinates do not require an external coordinate system. However, if we want to transfer the ZMatrix coordinates back to Cartesian coordinates, we must pick a set of three reference points (i.e. a plane) in Cartesian space and then another set of internal coordinates with respect to these three reference points that informs the correct translation/rotation with respect to these reference points. These reference points are also called virtual coordinates. \n",
    "\n",
    "Assume we have a molecule with 5 atoms `A-B-C-D-E`. Also assume we have ZMatrix for that molecule. The three reference points we are: `X`,`Y` and `Z`. Also, we want three torsion angles for `X-Y-Z-A`, `Y-Z-A-B`, `Z-A-B-C`, two angles `Y-Z-A`, `Z-A-B` and the bond length `Z-A`.\n",
    "\n",
    "The transformation to Cartesian coordinates is accomplished as follows:"
   ]
  },
  {
   "cell_type": "code",
   "execution_count": 26,
   "metadata": {},
   "outputs": [
    {
     "data": {
      "text/html": [
       "<table><tbody><tr><th>Magnitude</th><td style='text-align:left;'><pre>[[2.2378120207496552 0.6753181629342782 -0.7206903012998804]<br> [1.2502442737112462 -0.2138154102991574 0.008339988835788237]<br> [-0.06713363876477335 0.25821538754450474 -0.2632752094955726]<br> [-1.0563281092194288 -0.53206943866513 0.3917181983111903]<br> [-2.4218018004850994 0.03238337278691952 0.05376986108685637]<br> [2.1350704019518285 1.7152003958098239 -0.39328005902307406]<br> [3.265368091125077 0.34793385055350484 -0.539436247473827]<br> [2.0469887643653 0.6605425842600507 -1.798871949059434]<br> [1.4415772576151809 -0.1771251703954392 1.086402037034447]<br> [1.3521776837967792 -1.2474449798932692 -0.3400719598831804]<br> [-0.9872988627532798 -1.570244263508921 0.048792210644237194]<br> [-0.8978905829070385 -0.4999008903712402 1.4752459985175626]<br> [-2.4984133834668296 1.075875517305923 0.37682088513279194]<br> [-2.5865208616872586 0.02119456806134623 -1.0287498212885458]<br> [-3.213851253983331 -0.5460636855476192 0.5374639591259243]]</pre></td></tr><tr><th>Units</th><td style='text-align:left;'>angstrom</td></tr></tbody></table>"
      ],
      "text/latex": [
       "$\\begin{pmatrix} &  & \\\\ \n",
       " &  & \\\\ \n",
       " &  & \\\\ \n",
       " &  & \\\\ \n",
       " &  & \\\\ \n",
       " &  & \\\\ \n",
       " &  & \\\\ \n",
       " &  & \\\\ \n",
       " &  & \\\\ \n",
       " &  & \\\\ \n",
       " &  & \\\\ \n",
       " &  & \\\\ \n",
       " &  & \\\\ \n",
       " &  & \\\\ \n",
       " &  & \\end{pmatrix}\\ \\mathrm{angstrom}$"
      ],
      "text/plain": [
       "array([[ 2.23781202,  0.67531816, -0.7206903 ],\n",
       "       [ 1.25024427, -0.21381541,  0.00833999],\n",
       "       [-0.06713364,  0.25821539, -0.26327521],\n",
       "       [-1.05632811, -0.53206944,  0.3917182 ],\n",
       "       [-2.4218018 ,  0.03238337,  0.05376986],\n",
       "       [ 2.1350704 ,  1.7152004 , -0.39328006],\n",
       "       [ 3.26536809,  0.34793385, -0.53943625],\n",
       "       [ 2.04698876,  0.66054258, -1.79887195],\n",
       "       [ 1.44157726, -0.17712517,  1.08640204],\n",
       "       [ 1.35217768, -1.24744498, -0.34007196],\n",
       "       [-0.98729886, -1.57024426,  0.04879221],\n",
       "       [-0.89789058, -0.49990089,  1.475246  ],\n",
       "       [-2.49841338,  1.07587552,  0.37682089],\n",
       "       [-2.58652086,  0.02119457, -1.02874982],\n",
       "       [-3.21385125, -0.54606369,  0.53746396]]) <Unit('angstrom')>"
      ]
     },
     "execution_count": 26,
     "metadata": {},
     "output_type": "execute_result"
    }
   ],
   "source": [
    "### Our reference points are just the coordinate axis in the lab frame\n",
    "ref       = np.eye(3)*ureg.angstrom\n",
    "\n",
    "### Next, build the virtual coordinates.\n",
    "### First, one bond length\n",
    "virtual_bond   = pts_to_bond(ref[:,2], cart_crds[zm.z[0][0]])\n",
    "### Second, two angles\n",
    "virtual_angles = [pts_to_angle(ref[:,1], ref[:,2], cart_crds[zm.z[0][0]]),\n",
    "                  pts_to_angle(ref[:,2], cart_crds[zm.z[0][0]], cart_crds[zm.z[1][0]])]\n",
    "### Third, three dihedrals\n",
    "virtual_dihedrals = [pts_to_dihedral(ref[:,0], ref[:,1], ref[:,2], cart_crds[zm.z[0][0]]),\n",
    "                     pts_to_dihedral(ref[:,1], ref[:,2], cart_crds[zm.z[0][0]], cart_crds[zm.z[1][0]]),\n",
    "                     pts_to_dihedral(ref[:,2], cart_crds[zm.z[0][0]], cart_crds[zm.z[1][0]], cart_crds[zm.z[2][0]])]\n",
    "\n",
    "### Freed the ZMatrix coordinates with the virtual coordinates into the\n",
    "### the ZMatrix object\n",
    "cart_from_z = zm.build_cart_crds(z_crds, virtual_bond, \n",
    "                                 virtual_angles, virtual_dihedrals, ref)\n",
    "cart_from_z.to(ureg.angstrom)"
   ]
  },
  {
   "cell_type": "markdown",
   "metadata": {},
   "source": [
    "Let's check how much they differ from the original coordinates (not much)."
   ]
  },
  {
   "cell_type": "code",
   "execution_count": 27,
   "metadata": {},
   "outputs": [
    {
     "name": "stdout",
     "output_type": "stream",
     "text": [
      "RMSD: 7.731045939791728e-11 angstrom; MAX-DIFF 2.6786445284088245e-10 angstrom\n"
     ]
    }
   ],
   "source": [
    "rmsd = calc_rmsd(cart_from_z, cart_crds)\n",
    "max_diff = calc_max(cart_from_z, cart_crds)\n",
    "print(f'RMSD: {rmsd}; MAX-DIFF {max_diff}')"
   ]
  },
  {
   "cell_type": "markdown",
   "metadata": {},
   "source": [
    "# 3.) Pretty ZMatrix for QC codes\n",
    "\n",
    "Zmatrix coordinates can be used as input for Quantum Chemistry codes. A string with nicely formated ZMatrix coordinates can be generated by our ZMatrix class."
   ]
  },
  {
   "cell_type": "code",
   "execution_count": 28,
   "metadata": {
    "scrolled": true
   },
   "outputs": [
    {
     "name": "stdout",
     "output_type": "stream",
     "text": [
      "C \n",
      "C 1 1.5157 \n",
      "O 2 1.4255 1 108.4359 \n",
      "C 3 1.4255 2 111.7257 1 -179.9990 \n",
      "H 4 1.0955 3 109.7438 2 -59.9808 \n",
      "H 4 1.0955 3 109.7437 2 59.9810 \n",
      "C 4 1.5157 3 108.4359 2 180.0000 \n",
      "H 7 1.0950 4 110.6174 3 -59.1327 \n",
      "H 7 1.0950 4 110.6174 3 59.1333 \n",
      "H 7 1.0936 4 110.9093 3 -179.9995 \n",
      "H 2 1.0955 3 109.7438 4 -59.9800 \n",
      "H 2 1.0955 3 109.7437 4 59.9819 \n",
      "H 1 1.0950 2 110.6174 3 59.1327 \n",
      "H 1 1.0936 2 110.9093 3 179.9997 \n",
      "H 1 1.0950 2 110.6174 3 -59.1333 \n"
     ]
    }
   ],
   "source": [
    "z_string  = zm.build_pretty_zcrds(cart_crds)\n",
    "print(z_string)"
   ]
  },
  {
   "cell_type": "markdown",
   "metadata": {},
   "source": [
    "With that it is very convenient to parse the coordinates to PSI4 out to carry out an optimization."
   ]
  },
  {
   "cell_type": "code",
   "execution_count": null,
   "metadata": {},
   "outputs": [],
   "source": [
    "### The following line installs psi4, which is needed for the QC optimization\n",
    "!conda install -c psi4 psi4"
   ]
  },
  {
   "cell_type": "code",
   "execution_count": null,
   "metadata": {},
   "outputs": [],
   "source": [
    "import psi4\n",
    "\n",
    "charge = Chem.rdmolops.GetFormalCharge(rdmol)\n",
    "psi4.set_memory('500 MB')\n",
    "psi4.set_num_threads(1)\n",
    "psi4.set_options({'geom_maxiter': 100})\n",
    "psi4.set_options({'g_convergence': 'gau_tight'})\n",
    "\n",
    "psi4mol   = psi4.geometry(f\"\"\"\n",
    "{charge} 1\n",
    "{z_string}\n",
    "\"\"\")\n",
    "E, wfn = psi4.optimize('pbe0/def2-svp',\n",
    "                        molecule=psi4mol,\n",
    "                        return_wfn=True)\n",
    "print(E)"
   ]
  },
  {
   "cell_type": "markdown",
   "metadata": {},
   "source": [
    "# 4.) Error Assessment\n",
    "\n",
    "Next, we want to generate Cartesian coordintes and transform them back and forth in order to see how the transformations affect the accuracy of the coordinates. First, let's try some drug-like molecules from the Enamine REAL database.\n",
    "\n",
    "In addition to assessing coordinate accuracy, we check if each ZMatrix is actually valid, i.e. want to check if each row in the ZMatrix of a given molecule was defined *only* through atoms that were already defined in a prior row of the same ZMatrix."
   ]
  },
  {
   "cell_type": "code",
   "execution_count": null,
   "metadata": {},
   "outputs": [],
   "source": [
    "for smifile in glob.glob(\"./data/real/*.smiles\"):\n",
    "    with open(smifile, \"r\") as fopen:\n",
    "        lines = fopen.readlines()\n",
    "        for line in lines:\n",
    "            ### Generate an rdkit molecule (at this point there are no Cartesian coordinates!)\n",
    "            smi   = line.rstrip().lstrip().split()[0]\n",
    "            rdmol = Chem.MolFromSmiles(smi)\n",
    "            rdmol = Chem.AddHs(rdmol)\n",
    "            ### Generate the ZMatrix instance (builds the Zmatrix connectivity table).\n",
    "            zm    = ZMatrix(rdmol)\n",
    "            print(f\"{smi} \", end=\" \")\n",
    "            ### Check if the ZMatrix is valid\n",
    "            if not is_z_valid(zm, rdmol):\n",
    "                print(f'Z-valid?: No; RMSD: NA; MAX-DIFF NA')\n",
    "                continue\n",
    "            ### Generate Cartesian and ZMatrix coordinates\n",
    "            AllChem.EmbedMolecule(rdmol)\n",
    "            AllChem.MMFFOptimizeMolecule(rdmol)\n",
    "            cart_crds = np.array(rdmol.GetConformers()[0].GetPositions())*ureg.angstrom\n",
    "            z_crds    = zm.build_z_crds(cart_crds)\n",
    "\n",
    "            ### Compute virtual coordinates\n",
    "            ref = np.eye(3)*ureg.nanometer\n",
    "            virtual_bond   = pts_to_bond(ref[:,2], cart_crds[zm.z[0][0]])\n",
    "            virtual_angles = [pts_to_angle(ref[:,1], ref[:,2], cart_crds[zm.z[0][0]]),\n",
    "                              pts_to_angle(ref[:,2], cart_crds[zm.z[0][0]], cart_crds[zm.z[1][0]])]\n",
    "            virtual_dihedrals = [pts_to_dihedral(ref[:,0], ref[:,1], ref[:,2], cart_crds[zm.z[0][0]]),\n",
    "                                 pts_to_dihedral(ref[:,1], ref[:,2], cart_crds[zm.z[0][0]], cart_crds[zm.z[1][0]]),\n",
    "                                 pts_to_dihedral(ref[:,2], cart_crds[zm.z[0][0]], cart_crds[zm.z[1][0]], cart_crds[zm.z[2][0]])]\n",
    "            \n",
    "            ### Transform back to Cartesian space \n",
    "            cart_from_z = zm.build_cart_crds(z_crds, virtual_bond, \n",
    "                                             virtual_angles, virtual_dihedrals, ref)\n",
    "            rmsd = calc_rmsd(cart_from_z, cart_crds)\n",
    "            max_diff = calc_max(cart_from_z, cart_crds)\n",
    "            print(f'Z-valid?: Yes; RMSD: {rmsd:4.2f}; MAX-DIFF {max_diff:4.2f}')"
   ]
  },
  {
   "cell_type": "markdown",
   "metadata": {},
   "source": [
    "Next, look at a host guest complexes. In this example we want to use the host in order to define the virtual coordinates of the guest."
   ]
  },
  {
   "cell_type": "code",
   "execution_count": null,
   "metadata": {},
   "outputs": [],
   "source": [
    "### Load molecules (they already have Cartesian coordinates)\n",
    "mol2path_host  = \"./data/host-guest/host.mol2\"\n",
    "mol2path_guest = \"./data/host-guest/guest.mol2\"\n",
    "rdmol_host  = Chem.MolFromMol2File(mol2path_host)\n",
    "rdmol_host  = Chem.AddHs(rdmol_host)\n",
    "rdmol_guest = Chem.MolFromMol2File(mol2path_guest)\n",
    "rdmol_guest = Chem.AddHs(rdmol_guest)\n",
    "\n",
    "crds_host = np.array(rdmol_host.GetConformers()[0].GetPositions())*ureg.angstrom\n",
    "cart_crds = np.array(rdmol_guest.GetConformers()[0].GetPositions())*ureg.angstrom\n",
    "\n",
    "### Build Zmatrix coordinates guest molecule\n",
    "zm          = ZMatrix(rdmol_guest)\n",
    "if not is_z_valid(zm, rdmol_guest):\n",
    "    print(f'Z-valid?: No; RMSD: NA; MAX-DIFF NA')\n",
    "z_crds    = zm.build_z_crds(cart_crds)\n",
    "\n",
    "### Generate the Cartesian coordinates using the host molecule as a reference\n",
    "### We could use any three (not co-linear) atom coordinates of the host. Let's\n",
    "### just use the first three.\n",
    "ref            = crds_host[:3,]\n",
    "virtual_bond   = pts_to_bond(ref[:,2], cart_crds[zm.z[0][0]])\n",
    "virtual_angles = [pts_to_angle(ref[:,1], ref[:,2], cart_crds[zm.z[0][0]]),\n",
    "                  pts_to_angle(ref[:,2], cart_crds[zm.z[0][0]], cart_crds[zm.z[1][0]])]\n",
    "virtual_dihedrals = [pts_to_dihedral(ref[:,0], ref[:,1], ref[:,2], cart_crds[zm.z[0][0]]),\n",
    "                     pts_to_dihedral(ref[:,1], ref[:,2], cart_crds[zm.z[0][0]], cart_crds[zm.z[1][0]]),\n",
    "                     pts_to_dihedral(ref[:,2], cart_crds[zm.z[0][0]], cart_crds[zm.z[1][0]], cart_crds[zm.z[2][0]])]\n",
    "cart_from_z = zm.build_cart_crds(z_crds, virtual_bond, \n",
    "                                 virtual_angles, virtual_dihedrals, ref)\n",
    "rmsd = calc_rmsd(cart_from_z, cart_crds)\n",
    "max_diff = calc_max(cart_from_z, cart_crds)\n",
    "print(f'Z-valid?: Yes; RMSD: {rmsd}; MAX-DIFF {max_diff}')"
   ]
  }
 ],
 "metadata": {
  "kernelspec": {
   "display_name": "Python 3 (ipykernel)",
   "language": "python",
   "name": "python3"
  },
  "language_info": {
   "codemirror_mode": {
    "name": "ipython",
    "version": 3
   },
   "file_extension": ".py",
   "mimetype": "text/x-python",
   "name": "python",
   "nbconvert_exporter": "python",
   "pygments_lexer": "ipython3",
   "version": "3.9.16"
  },
  "latex_envs": {
   "LaTeX_envs_menu_present": true,
   "autoclose": false,
   "autocomplete": true,
   "bibliofile": "biblio.bib",
   "cite_by": "apalike",
   "current_citInitial": 1,
   "eqLabelWithNumbers": true,
   "eqNumInitial": 1,
   "hotkeys": {
    "equation": "Ctrl-E",
    "itemize": "Ctrl-I"
   },
   "labels_anchors": false,
   "latex_user_defs": false,
   "report_style_numbering": false,
   "user_envs_cfg": false
  }
 },
 "nbformat": 4,
 "nbformat_minor": 4
}
