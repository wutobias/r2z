{
 "cells": [
  {
   "cell_type": "code",
   "execution_count": 1,
   "metadata": {},
   "outputs": [],
   "source": [
    "from rdkit import Chem\n",
    "from rdkit.Chem import AllChem\n",
    "from simtk import unit\n",
    "import numpy as np\n",
    "import glob\n",
    "\n",
    "from zmatrix import ZMatrix, pts_to_bond, pts_to_angle, pts_to_dihedral\n",
    "from z_helpers import is_z_valid, calc_rmsd, calc_max, setLabels"
   ]
  },
  {
   "cell_type": "markdown",
   "metadata": {},
   "source": [
    "# 1.) Build the Z-Matrix Connectivity Table from a RDkit molecule\n",
    "\n",
    "The first thing we want to accomplish is to build the Z-Matrix connectivity table from the molecular graph. But first we need a molecule, let's use diethyl ether."
   ]
  },
  {
   "cell_type": "code",
   "execution_count": 2,
   "metadata": {},
   "outputs": [
    {
     "data": {
      "image/png": "[encoded data removed]",
      "text/plain": [
       "<rdkit.Chem.rdchem.Mol at 0x7f5be69c08f0>"
      ]
     },
     "execution_count": 2,
     "metadata": {},
     "output_type": "execute_result"
    }
   ],
   "source": [
    "from rdkit.Chem.Draw import IPythonConsole\n",
    "\n",
    "rdmol = Chem.MolFromSmiles(\"CCOCC\")\n",
    "rdmol = AllChem.AddHs(rdmol)\n",
    "setLabels(rdmol)\n",
    "rdmol.Compute2DCoords()\n",
    "rdmol"
   ]
  },
  {
   "cell_type": "markdown",
   "metadata": {},
   "source": [
    "Now we will initialize a ZMatrix instance using the rdkit molecule and print the connectivity table. The connectivity table is stored as a python dictionary. The keys are the indices (stored as int) of each atom in the Zmatrix going from the root atom down to the last atom. These indices correspond to the rows in the Z-Matrix. The values in the dictionary are a list of atom indices (stored as int) that define that particular atom in the zmatrix but according to the numbering of the rdkit molecule object (yes, these do not have the same numbering/ordering!). The first item in that dictionary is the atom itself, the second is the atom it is bonded it, the third is the atom it has an angle with and the fourth is the atom it has an dihedral angle with."
   ]
  },
  {
   "cell_type": "code",
   "execution_count": 3,
   "metadata": {},
   "outputs": [
    {
     "name": "stdout",
     "output_type": "stream",
     "text": [
      "{0: [0], 1: [1, 0], 2: [2, 1, 0], 3: [3, 2, 1, 0], 4: [10, 3, 2, 1], 5: [11, 3, 2, 1], 6: [4, 3, 2, 1], 7: [12, 4, 3, 2], 8: [13, 4, 3, 2], 9: [14, 4, 3, 2], 10: [8, 1, 2, 3], 11: [9, 1, 2, 3], 12: [5, 0, 1, 2], 13: [6, 0, 1, 2], 14: [7, 0, 1, 2]}\n"
     ]
    }
   ],
   "source": [
    "zm = ZMatrix(rdmol)\n",
    "print(zm.z)"
   ]
  },
  {
   "cell_type": "markdown",
   "metadata": {},
   "source": [
    "But we can also get the Z-Matrix connectivity table in the ordering of the Z-Matrix."
   ]
  },
  {
   "cell_type": "code",
   "execution_count": 4,
   "metadata": {},
   "outputs": [
    {
     "name": "stdout",
     "output_type": "stream",
     "text": [
      "{0: [0], 1: [1, 0], 2: [2, 1, 0], 3: [3, 2, 1, 0], 4: [4, 3, 2, 1], 5: [5, 3, 2, 1], 6: [6, 3, 2, 1], 7: [7, 6, 3, 2], 8: [8, 6, 3, 2], 9: [9, 6, 3, 2], 10: [10, 1, 2, 3], 11: [11, 1, 2, 3], 12: [12, 0, 1, 2], 13: [13, 0, 1, 2], 14: [14, 0, 1, 2]}\n"
     ]
    }
   ],
   "source": [
    "print(zm.zz)"
   ]
  },
  {
   "cell_type": "markdown",
   "metadata": {},
   "source": [
    "# 2.) Coordinate transformations\n",
    "\n",
    "Now we want to transform a Molecule in Cartesian coordinates to ZMatrix coordinates (i.e. to internal coordinates). This can easily be accomplished with our ZMatrix class. But first we must generate some Cartesian coordinates for our molecule. Note that we will use `unit` from the `simtk` package in order enfore correct units on all coordinates, bond lengths and angles during all conversions (it is easy to get lost here!)."
   ]
  },
  {
   "cell_type": "code",
   "execution_count": 5,
   "metadata": {},
   "outputs": [
    {
     "name": "stdout",
     "output_type": "stream",
     "text": [
      "[[ 2.21381128  0.77646963  0.13344008]\n",
      " [ 0.94435107 -0.00532878  0.41018391]\n",
      " [ 0.1734135  -0.04471943 -0.7880461 ]\n",
      " [-1.02236948 -0.81173903 -0.66640316]\n",
      " [-2.12022809 -0.0277099   0.03014365]\n",
      " [ 2.78770508  0.30736831 -0.67260635]\n",
      " [ 2.8410093   0.83139555  1.02761815]\n",
      " [ 1.97620029  1.79379366 -0.19478042]\n",
      " [ 1.19853699 -1.02412492  0.72229107]\n",
      " [ 0.37973193  0.48546273  1.20869813]\n",
      " [-0.82403969 -1.76086714 -0.15589271]\n",
      " [-1.35048813 -1.0507181  -1.68339562]\n",
      " [-3.06305625 -0.58195522  0.00701645]\n",
      " [-2.26783225  0.94301318 -0.45414171]\n",
      " [-1.86674556  0.16965946  1.07587462]] A\n"
     ]
    }
   ],
   "source": [
    "AllChem.EmbedMolecule(rdmol)\n",
    "AllChem.MMFFOptimizeMolecule(rdmol)\n",
    "cart_crds = np.array(rdmol.GetConformers()[0].GetPositions())*unit.angstrom\n",
    "print(cart_crds)"
   ]
  },
  {
   "cell_type": "markdown",
   "metadata": {},
   "source": [
    "## 2.1.) Cartesian to ZMatrix\n",
    "\n",
    "Now that we have Cartesian coordinates, transform them into ZMatrix coordinates according to ZMatrix connectivity table. The ZMatrix coordinates will be stored as a dictionary, where the keys are the rows in the ZMatrix (a.k.a atom indices according to the numbering in the ZMatrix connectivity table) and the values are the bond lengths, angles and dihedral angles. Note that the first atom will have the original Cartesian coordinates as its value in the dictionary."
   ]
  },
  {
   "cell_type": "code",
   "execution_count": 6,
   "metadata": {},
   "outputs": [
    {
     "name": "stdout",
     "output_type": "stream",
     "text": [
      "{0: [Quantity(value=array([0.22138113, 0.07764696, 0.01334401]), unit=nanometer)], 1: [Quantity(value=0.15163525695448501, unit=nanometer)], 2: [Quantity(value=0.1425360132521212, unit=nanometer), Quantity(value=108.27822892323474, unit=degree)], 3: [Quantity(value=0.14258376580479293, unit=nanometer), Quantity(value=113.3752668419046, unit=degree), Quantity(value=177.2277402696727, unit=degree)], 4: [Quantity(value=0.10958101046437037, unit=nanometer), Quantity(value=110.7256653406661, unit=degree), Quantity(value=-45.1004929375827, unit=degree)], 5: [Quantity(value=0.10950098186538039, unit=nanometer), Quantity(value=106.82619204124991, unit=degree), Quantity(value=-161.6627937911672, unit=degree)], 6: [Quantity(value=0.15182795083049927, unit=nanometer), Quantity(value=111.57841041195704, unit=degree), Quantity(value=79.55474497193993, unit=degree)], 7: [Quantity(value=0.10939139209552409, unit=nanometer), Quantity(value=110.60280621964687, unit=degree), Quantity(value=173.11306645831118, unit=degree)], 8: [Quantity(value=0.10948162393630952, unit=nanometer), Quantity(value=110.63506104254938, unit=degree), Quantity(value=52.37789793800894, unit=degree)], 9: [Quantity(value=0.10939658706228533, unit=nanometer), Quantity(value=111.3561128931222, unit=degree), Quantity(value=-66.6143349761435, unit=degree)], 10: [Quantity(value=0.10954300198046904, unit=nanometer), Quantity(value=109.83538655275495, unit=degree), Quantity(value=57.44496323751607, unit=degree)], 11: [Quantity(value=0.10942102387809785, unit=nanometer), Quantity(value=110.29037259882905, unit=degree), Quantity(value=-62.96738709618635, unit=degree)], 12: [Quantity(value=0.10950438380262793, unit=nanometer), Quantity(value=110.62350782243713, unit=degree), Quantity(value=-59.00554197822128, unit=degree)], 13: [Quantity(value=0.1093594361297824, unit=nanometer), Quantity(value=110.90429398662496, unit=degree), Quantity(value=-179.86637717797498, unit=degree)], 14: [Quantity(value=0.10950506284162087, unit=nanometer), Quantity(value=110.61145007162715, unit=degree), Quantity(value=59.27658867029617, unit=degree)]}\n"
     ]
    }
   ],
   "source": [
    "z_crds = zm.build_z_crds(cart_crds)\n",
    "print(z_crds)"
   ]
  },
  {
   "cell_type": "markdown",
   "metadata": {},
   "source": [
    "## 2.2.) Z-Matrix to Cartesian\n",
    "\n",
    "From the ZMatrix coordinates, one can also transform back to Cartesian space. However, this requires us to define a reference coordinate system. This is necessary, since the ZMatrix coordinates are only defined through internal coordinates starting at the root atom. Thus, these coordinates do not require an external coordinate system. However, if we want to transfer the ZMatrix coordinates back to Cartesian coordinates, we must pick a set of three reference points (i.e. a plane) in Cartesian space and then another set of internal coordinates with respect to these three reference points that informs the correct translation/rotation with respect to these reference points. These reference points are also called virtual coordinates. \n",
    "\n",
    "Assume we have a molecule with 5 atoms `A-B-C-D-E`. Also assume we have ZMatrix for that molecule. The three reference points we are: `X`,`Y` and `Z`. Also, we want three torsion angles for `X-Y-Z-A`, `Y-Z-A-B`, `Z-A-B-C`, two angles `Y-Z-A`, `Z-A-B` and the bond length `Z-A`.\n",
    "\n",
    "The transformation to Cartesian coordinates is accomplished as follows:"
   ]
  },
  {
   "cell_type": "code",
   "execution_count": 7,
   "metadata": {},
   "outputs": [
    {
     "name": "stdout",
     "output_type": "stream",
     "text": [
      "[[ 2.21381128  0.77646963  0.13344008]\n",
      " [ 0.94435107 -0.00532878  0.41018391]\n",
      " [ 0.1734135  -0.04471943 -0.7880461 ]\n",
      " [-1.02236948 -0.81173903 -0.66640316]\n",
      " [-2.12022809 -0.0277099   0.03014365]\n",
      " [ 2.78770508  0.30736831 -0.67260635]\n",
      " [ 2.8410093   0.83139555  1.02761815]\n",
      " [ 1.97620029  1.79379366 -0.19478042]\n",
      " [ 1.19853699 -1.02412492  0.72229107]\n",
      " [ 0.37973193  0.48546273  1.20869813]\n",
      " [-0.82403969 -1.76086714 -0.15589271]\n",
      " [-1.35048813 -1.0507181  -1.68339562]\n",
      " [-3.06305625 -0.58195522  0.00701645]\n",
      " [-2.26783225  0.94301318 -0.45414171]\n",
      " [-1.86674556  0.16965946  1.07587462]] A\n"
     ]
    }
   ],
   "source": [
    "### Our reference points are just the coordinate axis in the lab frame\n",
    "ref       = np.eye(3)*unit.angstrom\n",
    "\n",
    "### Next, build the virtual coordinates.\n",
    "### First, one bond length\n",
    "virtual_bond   = pts_to_bond(ref[:,2], cart_crds[zm.z[0][0]])\n",
    "### Second, two angles\n",
    "virtual_angles = [pts_to_angle(ref[:,1], ref[:,2], cart_crds[zm.z[0][0]]),\n",
    "                  pts_to_angle(ref[:,2], cart_crds[zm.z[0][0]], cart_crds[zm.z[1][0]])]\n",
    "### Third, three dihedrals\n",
    "virtual_dihedrals = [pts_to_dihedral(ref[:,0], ref[:,1], ref[:,2], cart_crds[zm.z[0][0]]),\n",
    "                     pts_to_dihedral(ref[:,1], ref[:,2], cart_crds[zm.z[0][0]], cart_crds[zm.z[1][0]]),\n",
    "                     pts_to_dihedral(ref[:,2], cart_crds[zm.z[0][0]], cart_crds[zm.z[1][0]], cart_crds[zm.z[2][0]])]\n",
    "\n",
    "### Freed the ZMatrix coordinates with the virtual coordinates into the\n",
    "### the ZMatrix object\n",
    "cart_from_z = zm.build_cart_crds(z_crds, virtual_bond, \n",
    "                                 virtual_angles, virtual_dihedrals, ref)\n",
    "print(cart_from_z.in_units_of(unit.angstrom))"
   ]
  },
  {
   "cell_type": "markdown",
   "metadata": {},
   "source": [
    "Let's check how much they differ from the original coordinates (not much)."
   ]
  },
  {
   "cell_type": "code",
   "execution_count": 8,
   "metadata": {},
   "outputs": [
    {
     "name": "stdout",
     "output_type": "stream",
     "text": [
      "RMSD: 6.486919763978787e-16; MAX-DIFF 3.3306690738754696e-14\n"
     ]
    }
   ],
   "source": [
    "rmsd = calc_rmsd(cart_from_z, cart_crds)\n",
    "max_diff = calc_max(cart_from_z, cart_crds)\n",
    "print(f'RMSD: {rmsd._value}; MAX-DIFF {max_diff._value}')"
   ]
  },
  {
   "cell_type": "markdown",
   "metadata": {},
   "source": [
    "# 3.) Pretty ZMatrix for QC codes\n",
    "\n",
    "Zmatrix coordinates can be used as input for Quantum Chemistry codes. A string with nicely formated ZMatrix coordinates can be generated by our ZMatrix class."
   ]
  },
  {
   "cell_type": "code",
   "execution_count": 9,
   "metadata": {
    "scrolled": true
   },
   "outputs": [
    {
     "name": "stdout",
     "output_type": "stream",
     "text": [
      "C \n",
      "C 1 1.5164 \n",
      "O 2 1.4254 1 108.2782 \n",
      "C 3 1.4258 2 113.3753 1 177.2277 \n",
      "H 4 1.0958 3 110.7257 2 -45.1005 \n",
      "H 4 1.0950 3 106.8262 2 -161.6628 \n",
      "C 4 1.5183 3 111.5784 2 79.5547 \n",
      "H 7 1.0939 4 110.6028 3 173.1131 \n",
      "H 7 1.0948 4 110.6351 3 52.3779 \n",
      "H 7 1.0940 4 111.3561 3 -66.6143 \n",
      "H 2 1.0954 3 109.8354 4 57.4450 \n",
      "H 2 1.0942 3 110.2904 4 -62.9674 \n",
      "H 1 1.0950 2 110.6235 3 -59.0055 \n",
      "H 1 1.0936 2 110.9043 3 -179.8664 \n",
      "H 1 1.0951 2 110.6115 3 59.2766 \n"
     ]
    }
   ],
   "source": [
    "z_string  = zm.build_pretty_zcrds(cart_crds)\n",
    "print(z_string)"
   ]
  },
  {
   "cell_type": "markdown",
   "metadata": {},
   "source": [
    "With that it is very convenient to parse the coordinates to PSI4 out to carry out an optimization."
   ]
  },
  {
   "cell_type": "code",
   "execution_count": 10,
   "metadata": {},
   "outputs": [
    {
     "name": "stdout",
     "output_type": "stream",
     "text": [
      "Collecting package metadata (current_repodata.json): done\n",
      "Solving environment: done\n",
      "\n",
      "# All requested packages already installed.\n",
      "\n"
     ]
    }
   ],
   "source": [
    "### The following line installs psi4, which is needed for the QC optimization\n",
    "!conda install -c psi4 psi4"
   ]
  },
  {
   "cell_type": "code",
   "execution_count": 11,
   "metadata": {},
   "outputs": [
    {
     "name": "stdout",
     "output_type": "stream",
     "text": [
      "Optimizer: Optimization complete!\n",
      "-233.2093912948438\n"
     ]
    }
   ],
   "source": [
    "import psi4\n",
    "\n",
    "charge = Chem.rdmolops.GetFormalCharge(rdmol)\n",
    "psi4.set_memory('500 MB')\n",
    "psi4.set_num_threads(1)\n",
    "psi4.set_options({'geom_maxiter': 100})\n",
    "psi4.set_options({'g_convergence': 'gau_tight'})\n",
    "\n",
    "psi4mol   = psi4.geometry(f\"\"\"\n",
    "{charge} 1\n",
    "{z_string}\n",
    "\"\"\")\n",
    "E, wfn = psi4.optimize('pbe0/def2-svp',\n",
    "                        molecule=psi4mol,\n",
    "                        return_wfn=True)\n",
    "print(E)"
   ]
  },
  {
   "cell_type": "markdown",
   "metadata": {},
   "source": [
    "# 4.) Error Assessment\n",
    "\n",
    "Next, we want to generate Cartesian coordintes and transform them back and forth in order to see how the transformations affect the accuracy of the coordinates. First, let's try some drug-like molecules from the Enamine REAL database.\n",
    "\n",
    "In addition to assessing coordinate accuracy, we check if each ZMatrix is actually valid, i.e. want to check if each row in the ZMatrix of a given molecule was defined *only* through atoms that were already defined in a prior row of the same ZMatrix."
   ]
  },
  {
   "cell_type": "code",
   "execution_count": null,
   "metadata": {},
   "outputs": [],
   "source": [
    "for smifile in glob.glob(\"./data/real/*.smiles\"):\n",
    "    with open(smifile, \"r\") as fopen:\n",
    "        lines = fopen.readlines()\n",
    "        for line in lines:\n",
    "            ### Generate an rdkit molecule (at this point there are no Cartesian coordinates!)\n",
    "            smi   = line.rstrip().lstrip().split()[0]\n",
    "            rdmol = Chem.MolFromSmiles(smi)\n",
    "            rdmol = Chem.AddHs(rdmol)\n",
    "            ### Generate the ZMatrix instance (builds the Zmatrix connectivity table).\n",
    "            zm    = ZMatrix(rdmol)\n",
    "            print(f\"{smi} \", end=\" \")\n",
    "            ### Check if the ZMatrix is valid\n",
    "            if not is_z_valid(zm, rdmol):\n",
    "                print(f'Z-valid?: No; RMSD: NA; MAX-DIFF NA')\n",
    "                continue\n",
    "            ### Generate Cartesian and ZMatrix coordinates\n",
    "            AllChem.EmbedMolecule(rdmol)\n",
    "            AllChem.MMFFOptimizeMolecule(rdmol)\n",
    "            cart_crds = np.array(rdmol.GetConformers()[0].GetPositions())*unit.angstrom\n",
    "            z_crds    = zm.build_z_crds(cart_crds)\n",
    "\n",
    "            ### Compute virtual coordinates\n",
    "            ref = np.eye(3)*unit.nanometer\n",
    "            virtual_bond   = pts_to_bond(ref[:,2], cart_crds[zm.z[0][0]])\n",
    "            virtual_angles = [pts_to_angle(ref[:,1], ref[:,2], cart_crds[zm.z[0][0]]),\n",
    "                              pts_to_angle(ref[:,2], cart_crds[zm.z[0][0]], cart_crds[zm.z[1][0]])]\n",
    "            virtual_dihedrals = [pts_to_dihedral(ref[:,0], ref[:,1], ref[:,2], cart_crds[zm.z[0][0]]),\n",
    "                                 pts_to_dihedral(ref[:,1], ref[:,2], cart_crds[zm.z[0][0]], cart_crds[zm.z[1][0]]),\n",
    "                                 pts_to_dihedral(ref[:,2], cart_crds[zm.z[0][0]], cart_crds[zm.z[1][0]], cart_crds[zm.z[2][0]])]\n",
    "            \n",
    "            ### Transform back to Cartesian space \n",
    "            cart_from_z = zm.build_cart_crds(z_crds, virtual_bond, \n",
    "                                             virtual_angles, virtual_dihedrals, ref)\n",
    "            rmsd = calc_rmsd(cart_from_z, cart_crds)\n",
    "            max_diff = calc_max(cart_from_z, cart_crds)\n",
    "            print(f'Z-valid?: Yes; RMSD: {rmsd._value:4.2f}; MAX-DIFF {max_diff._value:4.2f}')"
   ]
  },
  {
   "cell_type": "markdown",
   "metadata": {},
   "source": [
    "Next, look at a host guest complexes. In this example we want to use the host in order to define the virtual coordinates of the guest."
   ]
  },
  {
   "cell_type": "code",
   "execution_count": 9,
   "metadata": {},
   "outputs": [
    {
     "name": "stdout",
     "output_type": "stream",
     "text": [
      "Z-valid?: Yes; RMSD: 2.6114510224364884e-10; MAX-DIFF 9.214523033485023e-09\n"
     ]
    }
   ],
   "source": [
    "### Load molecules (they already have Cartesian coordinates)\n",
    "mol2path_host  = \"./data/host-guest/host.mol2\"\n",
    "mol2path_guest = \"./data/host-guest/guest.mol2\"\n",
    "rdmol_host  = Chem.MolFromMol2File(mol2path_host)\n",
    "rdmol_host  = Chem.AddHs(rdmol_host)\n",
    "rdmol_guest = Chem.MolFromMol2File(mol2path_guest)\n",
    "rdmol_guest = Chem.AddHs(rdmol_guest)\n",
    "\n",
    "crds_host = np.array(rdmol_host.GetConformers()[0].GetPositions())*unit.angstrom\n",
    "cart_crds = np.array(rdmol_guest.GetConformers()[0].GetPositions())*unit.angstrom\n",
    "\n",
    "### Build Zmatrix coordinates guest molecule\n",
    "zm          = ZMatrix(rdmol_guest)\n",
    "if not is_z_valid(zm, rdmol_guest):\n",
    "    print(f'Z-valid?: No; RMSD: NA; MAX-DIFF NA')\n",
    "z_crds    = zm.build_z_crds(cart_crds)\n",
    "\n",
    "### Generate the Cartesian coordinates using the host molecule as a reference\n",
    "### We could use any three (not co-linear) atom coordinates of the host. Let's\n",
    "### just use the first three.\n",
    "ref            = crds_host[:3,]\n",
    "virtual_bond   = pts_to_bond(ref[:,2], cart_crds[zm.z[0][0]])\n",
    "virtual_angles = [pts_to_angle(ref[:,1], ref[:,2], cart_crds[zm.z[0][0]]),\n",
    "                  pts_to_angle(ref[:,2], cart_crds[zm.z[0][0]], cart_crds[zm.z[1][0]])]\n",
    "virtual_dihedrals = [pts_to_dihedral(ref[:,0], ref[:,1], ref[:,2], cart_crds[zm.z[0][0]]),\n",
    "                     pts_to_dihedral(ref[:,1], ref[:,2], cart_crds[zm.z[0][0]], cart_crds[zm.z[1][0]]),\n",
    "                     pts_to_dihedral(ref[:,2], cart_crds[zm.z[0][0]], cart_crds[zm.z[1][0]], cart_crds[zm.z[2][0]])]\n",
    "cart_from_z = zm.build_cart_crds(z_crds, virtual_bond, \n",
    "                                 virtual_angles, virtual_dihedrals, ref)\n",
    "rmsd = calc_rmsd(cart_from_z, cart_crds)\n",
    "max_diff = calc_max(cart_from_z, cart_crds)\n",
    "print(f'Z-valid?: Yes; RMSD: {rmsd._value}; MAX-DIFF {max_diff._value}')"
   ]
  },
  {
   "cell_type": "markdown",
   "metadata": {},
   "source": [
    "Test the coordinate transformations on some peptide molecules taken from the PDB. Note that this might take a long time to run, since the algorithm is not efficient for larger peptides."
   ]
  },
  {
   "cell_type": "code",
   "execution_count": null,
   "metadata": {},
   "outputs": [],
   "source": [
    "for pdb in glob.glob('./data/pdb/*.pdb'):\n",
    "    rdmol = Chem.MolFromPDBFile(pdb)\n",
    "    rdmol = Chem.AddHs(rdmol)\n",
    "    zm    = ZMatrix(rdmol)\n",
    "    print(f\"{pdb} \", end=\" \")\n",
    "    if not is_z_valid(zm, rdmol):\n",
    "        print(f'Z-valid?: No; RMSD: NA; MAX-DIFF NA')\n",
    "    ref = np.eye(3)*unit.nanometer\n",
    "    cart_crds = np.array(rdmol.GetConformers()[0].GetPositions())*unit.angstrom\n",
    "    z_crds    = zm.build_z_crds(cart_crds)\n",
    "    virtual_bond   = pts_to_bond(ref[:,2], cart_crds[zm.z[0][0]])\n",
    "    virtual_angles = [pts_to_angle(ref[:,1], ref[:,2], cart_crds[zm.z[0][0]]),\n",
    "                      pts_to_angle(ref[:,2], cart_crds[zm.z[0][0]], cart_crds[zm.z[1][0]])]\n",
    "    virtual_dihedrals = [pts_to_dihedral(ref[:,0], ref[:,1], ref[:,2], cart_crds[zm.z[0][0]]),\n",
    "                         pts_to_dihedral(ref[:,1], ref[:,2], cart_crds[zm.z[0][0]], cart_crds[zm.z[1][0]]),\n",
    "                         pts_to_dihedral(ref[:,2], cart_crds[zm.z[0][0]], cart_crds[zm.z[1][0]], cart_crds[zm.z[2][0]])]\n",
    "    cart_from_z = zm.build_cart_crds(z_crds, virtual_bond, virtual_angles, virtual_dihedrals, ref)\n",
    "    rmsd = calc_rmsd(cart_from_z, cart_crds)\n",
    "    max_diff = calc_max(cart_from_z, cart_crds)\n",
    "    print(f'Z-valid?: Yes; RMSD: {rmsd._value}; MAX-DIFF {max_diff._value}')"
   ]
  }
 ],
 "metadata": {
  "kernelspec": {
   "display_name": "Python [conda env:cheminfo] *",
   "language": "python",
   "name": "conda-env-cheminfo-py"
  },
  "language_info": {
   "codemirror_mode": {
    "name": "ipython",
    "version": 3
   },
   "file_extension": ".py",
   "mimetype": "text/x-python",
   "name": "python",
   "nbconvert_exporter": "python",
   "pygments_lexer": "ipython3",
   "version": "3.6.10"
  },
  "latex_envs": {
   "LaTeX_envs_menu_present": true,
   "autoclose": false,
   "autocomplete": true,
   "bibliofile": "biblio.bib",
   "cite_by": "apalike",
   "current_citInitial": 1,
   "eqLabelWithNumbers": true,
   "eqNumInitial": 1,
   "hotkeys": {
    "equation": "Ctrl-E",
    "itemize": "Ctrl-I"
   },
   "labels_anchors": false,
   "latex_user_defs": false,
   "report_style_numbering": false,
   "user_envs_cfg": false
  }
 },
 "nbformat": 4,
 "nbformat_minor": 4
}
